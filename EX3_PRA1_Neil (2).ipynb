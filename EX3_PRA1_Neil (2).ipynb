{
  "cells": [
    {
      "cell_type": "markdown",
      "metadata": {
        "id": "_RqvEPy50MUb"
      },
      "source": [
        "<div class=\"alert alert-block alert-info\">\n",
        "<strong>Name and surname:\n",
        "\n",
        "\n",
        "**Neil de la Fuente**</strong>\n",
        "</div>"
      ]
    },
    {
      "cell_type": "markdown",
      "source": [
        "## Part 3. Self-training\n",
        "\n",
        "Self-training methods (sometimes also called _self-learning_ methods) are the most basic of pseudo-labelling approaches. They consist of a **single supervised classifier** that is iteratively trained on both **labelled** data and data that has been **pseudo-labelled** in previous iterations of the algorithm.\n",
        "\n",
        "Self-training procedure:\n",
        "- At the beginning of the self-training procedure, **a supervised classifier is trained on only the labelled data**.\n",
        "- The resulting classifier is used to **obtain predictions for the unlabelled data points**.\n",
        "- Then, the most confident of these predictions are added to the labelled data set.\n",
        "- Next, **the supervised classifier is re-trained** on both the original labelled data and the newly obtained pseudo-labelled data.\n",
        "- This procedure is typically **iterated until no more unlabelled** data remain.\n",
        "\n",
        "<u>Questions</u> (**3 points**):\n",
        "1. Implement (manually) a function to apply the _self-training_ algorithm, as previously stated.\n",
        "- Use the same CNN from the aforementioned exercises.\n",
        "- For each iteration, you must provide (at least) the following information:\n",
        "  - The number of items added to the labelled data\n",
        "  - The number of correctly / incorrectly classified items that are added to the labelled data\n",
        "2. Regarding the _threshold_ parameter, analyse a range between (60-90) and justify the best value.\n",
        "3. With the best threshold, report the same evaluation metrics.\n",
        "\n",
        "**Notes**:\n",
        "- **DO NOT USE** any third-party implementation, such as `SelfTrainingClassifier` from `sklearn`."
      ],
      "metadata": {
        "id": "vO_QbnVM7Sf3"
      }
    },
    {
      "cell_type": "code",
      "execution_count": 53,
      "metadata": {
        "id": "nvMaPr980MUc"
      },
      "outputs": [],
      "source": [
        "import torch\n",
        "import torchvision\n",
        "import torch.nn as nn\n",
        "import numpy as np\n",
        "import torch.optim as optim\n",
        "from torchvision import datasets, transforms\n",
        "import torch.nn.functional as F\n",
        "from sklearn.model_selection import train_test_split\n",
        "import matplotlib.pyplot as plt\n",
        "import seaborn as sns\n",
        "from tqdm import tqdm\n",
        "from sklearn.metrics import accuracy_score, recall_score, f1_score, confusion_matrix\n",
        "from torch.utils.data import random_split, DataLoader, ConcatDataset, Dataset, Subset\n",
        "from torch.utils.data.sampler import SubsetRandomSampler"
      ]
    },
    {
      "cell_type": "code",
      "source": [
        "class SemiSupervisedDataset(Dataset):\n",
        "    def __init__(self, dataset, labeled=True):\n",
        "        self.dataset = dataset\n",
        "        self.labeled = labeled\n",
        "        self.actual_labels = [item[1] for item in self.dataset] if not self.labeled else []\n",
        "\n",
        "    def __getitem__(self, index):\n",
        "        data, label = self.dataset[index]\n",
        "        if self.labeled:\n",
        "            return data, label\n",
        "        else:\n",
        "            return data, -1  # Return -1 for unlabeled data\n",
        "\n",
        "    def __len__(self):\n",
        "        return len(self.dataset)\n",
        "\n",
        "    def get_actual_labels(self):\n",
        "        return self.actual_labels"
      ],
      "metadata": {
        "id": "W205b9tP-oU5"
      },
      "execution_count": 54,
      "outputs": []
    },
    {
      "cell_type": "code",
      "execution_count": 55,
      "metadata": {
        "colab": {
          "base_uri": "https://localhost:8080/",
          "height": 0
        },
        "id": "KuOBJhqe0MUd",
        "outputId": "7009a644-4079-4773-defd-d9d607c814a3"
      },
      "outputs": [
        {
          "output_type": "stream",
          "name": "stdout",
          "text": [
            "Training data shape: 60000\n",
            "Testing data shape: 10000\n"
          ]
        }
      ],
      "source": [
        "# Import FashionMNIST dataset\n",
        "train_dataset = datasets.FashionMNIST(root='./data', train=True, download=True, transform=transforms.ToTensor())\n",
        "test_dataset = datasets.FashionMNIST(root='./data', train=False, download=True, transform=transforms.ToTensor())\n",
        "\n",
        "train_loader = torch.utils.data.DataLoader(train_dataset, batch_size=100, shuffle=True, num_workers=2)\n",
        "val_loader = torch.utils.data.DataLoader(test_dataset, batch_size=100, shuffle=False, num_workers=2)\n",
        "\n",
        "# Print the shapes of the resulting datasets\n",
        "print(f\"Training data shape: {len(train_dataset)}\")\n",
        "print(f\"Testing data shape: {len(test_dataset)}\")\n",
        "\n"
      ]
    },
    {
      "cell_type": "code",
      "source": [
        "\n",
        "\n",
        "DL_size = 10000\n",
        "DU_size = len(train_dataset) - DL_size\n",
        "\n",
        "DL_dataset, DU_dataset = random_split(train_dataset, [DL_size, DU_size])\n",
        "\n",
        "#Pass them through our Semisupervised dataset in order to erase labels\n",
        "DL_dataset = SemiSupervisedDataset(DL_dataset, labeled=True)\n",
        "DU_dataset = SemiSupervisedDataset(DU_dataset, labeled=False)\n",
        "\n",
        "DL_loader = DataLoader(DL_dataset, batch_size=100, shuffle=True)\n",
        "DU_loader = DataLoader(DU_dataset, batch_size=100, shuffle=True)\n",
        "\n",
        "print(f\"DL data shape: {len(DL_dataset)}\")\n",
        "print(f\"DU data shape: {len(DU_dataset)}\")\n",
        "print(f\"Testing data shape: {len(test_dataset)}\")"
      ],
      "metadata": {
        "colab": {
          "base_uri": "https://localhost:8080/",
          "height": 0
        },
        "id": "Wcm3rnkB8YyD",
        "outputId": "ccf1e3a3-e1f5-47cf-8308-332872ffc36f"
      },
      "execution_count": 56,
      "outputs": [
        {
          "output_type": "stream",
          "name": "stdout",
          "text": [
            "DL data shape: 10000\n",
            "DU data shape: 50000\n",
            "Testing data shape: 10000\n"
          ]
        }
      ]
    },
    {
      "cell_type": "code",
      "source": [
        "class CNN(nn.Module):\n",
        "    def __init__(self, n_channels, n_classes):\n",
        "        super(CNN, self).__init__()\n",
        "\n",
        "        self.conv = nn.Conv2d(in_channels=1, out_channels=n_channels, kernel_size=(5,5)) #[batch_size, n_channels, 24, 24] (28 - 5 + 1 = 24)\n",
        "        self.relu = nn.ReLU() #[batch_size, n_channels, 12, 12] (24 / 2 = 12)\n",
        "        self.maxpool = nn.MaxPool2d(kernel_size=(2,2))\n",
        "\n",
        "        # Calculate in_features after flattening\n",
        "        self.in_features_after_flatten = n_channels * 12 * 12\n",
        "        self.fc = nn.Linear(in_features=self.in_features_after_flatten, out_features=n_classes)\n",
        "\n",
        "    def forward(self, x):\n",
        "        x = self.conv(x)\n",
        "        x = self.relu(x)\n",
        "        x = self.maxpool(x)\n",
        "\n",
        "        # Flatten the tensor\n",
        "        x = x.view(x.size(0), self.in_features_after_flatten)\n",
        "        x = self.fc(x)\n",
        "        return x\n",
        "\n",
        "\n"
      ],
      "metadata": {
        "id": "otposrOe-F1Q"
      },
      "execution_count": 57,
      "outputs": []
    },
    {
      "cell_type": "code",
      "source": [
        "# @title auxiliary function to count number of parameters\n",
        "def get_n_params(model):\n",
        "    np=0\n",
        "    for p in list(model.parameters()):\n",
        "        np += p.numel()\n",
        "    return np"
      ],
      "metadata": {
        "cellView": "form",
        "id": "RJUiEr1M_rUH"
      },
      "execution_count": 58,
      "outputs": []
    },
    {
      "cell_type": "code",
      "source": [
        "@torch.no_grad()\n",
        "def validate(criterion, model, loader):\n",
        "    val_loss = 0\n",
        "    model.eval()\n",
        "\n",
        "    all_preds = []\n",
        "    all_labels = []\n",
        "\n",
        "    for data, target in tqdm(loader, desc=\"Validation\", total=len(loader)):\n",
        "        data, target = data.to(device), target.to(device)\n",
        "        output = model(data)\n",
        "        loss = criterion(output, target)\n",
        "        val_loss += loss.item()\n",
        "        pred = output.data.max(1, keepdim=True)[1]\n",
        "        all_preds.extend(pred.cpu().numpy())\n",
        "        all_labels.extend(target.cpu().numpy())\n",
        "\n",
        "    val_loss /= len(loader)\n",
        "\n",
        "    return val_loss, np.array(all_preds).flatten(), np.array(all_labels).flatten()\n",
        "\n",
        "\n",
        "\n",
        "def train(epoch, criterion, model, optimizer, loader):\n",
        "    total_loss = 0.0\n",
        "    model.train()\n",
        "\n",
        "    for batch_idx, (data, target) in tqdm(enumerate(loader), desc=f\"Training Epoch {epoch+1}\", total=len(loader)):\n",
        "        optimizer.zero_grad()\n",
        "        data, target = data.to(device), target.to(device)\n",
        "        output = model(data)\n",
        "        loss = criterion(output, target)\n",
        "        loss.backward()\n",
        "        optimizer.step()\n",
        "\n",
        "        if batch_idx % 100 == 0:\n",
        "            print(f'Train Epoch: {epoch} [{batch_idx * len(data)}/{len(loader.dataset)} ({100. * batch_idx / len(loader):.0f}%)]\\tLoss: {loss.item():.6f}')\n",
        "\n",
        "        total_loss += loss.item()\n",
        "\n",
        "    return total_loss / len(loader)  # Normalize by number of batches\n"
      ],
      "metadata": {
        "id": "3ZHudukj_lS2"
      },
      "execution_count": 59,
      "outputs": []
    },
    {
      "cell_type": "code",
      "execution_count": 62,
      "metadata": {
        "id": "czmFtHr90MUd"
      },
      "outputs": [],
      "source": [
        "# Implementation of self-training function\n",
        "def self_training(epochs, DL_dataset, DU_dataset, model, criterion, optimizer, threshold):\n",
        "    actual_DU_labels = DU_dataset.get_actual_labels()\n",
        "\n",
        "    for epoch in range(epochs):\n",
        "        DL_loader = DataLoader(DL_dataset, batch_size=100, shuffle=True)\n",
        "        DU_loader = DataLoader(DU_dataset, batch_size=100, shuffle=False)  # Not shuffling for easy indexing\n",
        "\n",
        "        #Train on the labeled dataset\n",
        "        train(epoch, criterion, model, optimizer, DL_loader)\n",
        "\n",
        "        #Make predictions on the unlabeled dataset\n",
        "        pseudo_labels = []\n",
        "        confidences = []\n",
        "\n",
        "        model.eval()\n",
        "        with torch.no_grad():\n",
        "            for data, _ in DU_loader:\n",
        "                data = data.to(device)\n",
        "                outputs = F.softmax(model(data), dim=1)\n",
        "                confidence, pseudo_label = torch.max(outputs, dim=1)\n",
        "                pseudo_labels.extend(pseudo_label.cpu().numpy())\n",
        "                confidences.extend(confidence.cpu().numpy())\n",
        "\n",
        "        #Select the most confident predictions and add them to DL_dataset\n",
        "        threshold = threshold\n",
        "        high_confidence_idxs = [idx for idx, conf in enumerate(confidences) if conf > threshold]\n",
        "\n",
        "        #Check how many are correctly labeled\n",
        "        correct_count = 0\n",
        "        incorrect_count = 0\n",
        "        for idx in high_confidence_idxs:\n",
        "            if pseudo_labels[idx] == actual_DU_labels[idx]:\n",
        "                correct_count += 1\n",
        "            else:\n",
        "                incorrect_count += 1\n",
        "\n",
        "        print(f\"\\nEpoch {epoch + 1}: Added {len(high_confidence_idxs)} items to the labeled dataset.\")\n",
        "        print(f\"\\nCorrectly labeled: {correct_count}, Incorrectly labeled: {incorrect_count}\\n\\n\")\n",
        "\n",
        "        newly_labeled_data = Subset(DU_dataset.dataset, high_confidence_idxs)\n",
        "        newly_labeled_data = SemiSupervisedDataset(newly_labeled_data, labeled=True)\n",
        "        DL_dataset = ConcatDataset([DL_dataset, newly_labeled_data])\n",
        "\n",
        "        #Remove the most confident samples from DU_dataset\n",
        "        remaining_idxs = [idx for idx in range(len(DU_dataset)) if idx not in high_confidence_idxs]\n",
        "        DU_dataset = Subset(DU_dataset.dataset, remaining_idxs)\n",
        "        DU_dataset = SemiSupervisedDataset(DU_dataset, labeled=False)\n",
        "\n",
        "        #Remove the most confident samples' actual labels from actual_DU_labels\n",
        "        actual_DU_labels = [label for idx, label in enumerate(actual_DU_labels) if idx not in high_confidence_idxs]\n",
        "\n",
        "        #Update the actual labels in DU_dataset\n",
        "        DU_dataset.actual_labels = actual_DU_labels\n"
      ]
    },
    {
      "cell_type": "code",
      "source": [
        "device = torch.device(\"cuda:0\" if torch.cuda.is_available() else \"cpu\")\n",
        "torch.backends.cudnn.benchmark = True\n",
        "learning_rate = 1e-3\n",
        "lambda_l2 = 1e-5\n",
        "momentum = 0.5\n",
        "torch.manual_seed(0) # seed for reproductibility\n",
        "\n",
        "n_classes = 10  # there are 10 classes\n",
        "n_channels = 16\n",
        "\n",
        "criterion = torch.nn.CrossEntropyLoss() # https://pytorch.org/docs/stable/generated/torch.nn.CrossEntropyLoss.html#torch.nn.CrossEntropyLoss\n",
        "\n",
        "model = CNN(n_channels, n_classes)\n",
        "model.to(device)\n",
        "\n",
        "optimizer = torch.optim.SGD(model.parameters(), lr=learning_rate, momentum=momentum, weight_decay=lambda_l2) # built-in L2\n",
        "\n",
        "epochs = 5\n",
        "\n",
        "thresholds = [0.6, 0.7, 0.8, 0.9]\n",
        "\n",
        "print(f\"Number of parameters: {get_n_params(model)}\\n\")\n",
        "\n",
        "for threshold in thresholds:\n",
        "\n",
        "    print(\"Training model with threshold:\",threshold)\n",
        "    self_training(epochs, DL_dataset, DU_dataset, model, criterion, optimizer, threshold)\n",
        "    print(\"\\n\")\n",
        "\n",
        "    # Calculate metrics\n",
        "    final_val_loss, all_preds, all_labels = validate(criterion, model, val_loader)\n",
        "    accuracy = accuracy_score(all_labels, all_preds)\n",
        "    recall = recall_score(all_labels, all_preds, average='macro')\n",
        "    f1 = f1_score(all_labels, all_preds, average='macro')\n",
        "    cm = confusion_matrix(all_labels, all_preds)\n",
        "\n",
        "    print(f'\\nFinal Metrics:')\n",
        "    print(f'Accuracy: {accuracy*100:.2f}%')\n",
        "    print(f'Recall: {recall*100:.2f}%')\n",
        "    print(f'F1-score: {f1*100:.2f}%')\n",
        "\n",
        "    # Plot confusion matrix using Seaborn\n",
        "    plt.figure(figsize=(10, 7))\n",
        "    sns.heatmap(cm, annot=True, fmt='d', cmap='Blues')\n",
        "    plt.xlabel('Predicted')\n",
        "    plt.ylabel('Truth')\n",
        "    plt.show()"
      ],
      "metadata": {
        "colab": {
          "base_uri": "https://localhost:8080/",
          "height": 5864
        },
        "id": "Y7q7ig8gCv6M",
        "outputId": "4473e336-6606-4680-8707-9a04a5efcc7b"
      },
      "execution_count": 63,
      "outputs": [
        {
          "output_type": "stream",
          "name": "stdout",
          "text": [
            "Number of parameters: 23466\n",
            "Training model with threshold: 0.6\n"
          ]
        },
        {
          "output_type": "stream",
          "name": "stderr",
          "text": [
            "Training Epoch 1:   3%|▎         | 3/100 [00:00<00:03, 27.87it/s]"
          ]
        },
        {
          "output_type": "stream",
          "name": "stdout",
          "text": [
            "Train Epoch: 0 [0/10000 (0%)]\tLoss: 2.293138\n"
          ]
        },
        {
          "output_type": "stream",
          "name": "stderr",
          "text": [
            "Training Epoch 1: 100%|██████████| 100/100 [00:06<00:00, 15.71it/s]\n"
          ]
        },
        {
          "output_type": "stream",
          "name": "stdout",
          "text": [
            "\n",
            "Epoch 1: Added 0 items to the labeled dataset.\n",
            "\n",
            "Correctly labeled: 0, Incorrectly labeled: 0\n",
            "\n",
            "\n"
          ]
        },
        {
          "output_type": "stream",
          "name": "stderr",
          "text": [
            "Training Epoch 2:   6%|▌         | 6/100 [00:00<00:03, 28.66it/s]"
          ]
        },
        {
          "output_type": "stream",
          "name": "stdout",
          "text": [
            "Train Epoch: 1 [0/10000 (0%)]\tLoss: 1.931856\n"
          ]
        },
        {
          "output_type": "stream",
          "name": "stderr",
          "text": [
            "Training Epoch 2: 100%|██████████| 100/100 [00:03<00:00, 28.47it/s]\n"
          ]
        },
        {
          "output_type": "stream",
          "name": "stdout",
          "text": [
            "\n",
            "Epoch 2: Added 30 items to the labeled dataset.\n",
            "\n",
            "Correctly labeled: 30, Incorrectly labeled: 0\n",
            "\n",
            "\n"
          ]
        },
        {
          "output_type": "stream",
          "name": "stderr",
          "text": [
            "Training Epoch 3:   4%|▍         | 4/101 [00:00<00:03, 30.40it/s]"
          ]
        },
        {
          "output_type": "stream",
          "name": "stdout",
          "text": [
            "Train Epoch: 2 [0/10030 (0%)]\tLoss: 1.509643\n"
          ]
        },
        {
          "output_type": "stream",
          "name": "stderr",
          "text": [
            "Training Epoch 3: 100%|██████████| 101/101 [00:03<00:00, 28.68it/s]\n"
          ]
        },
        {
          "output_type": "stream",
          "name": "stdout",
          "text": [
            "Train Epoch: 2 [3000/10030 (99%)]\tLoss: 1.160859\n",
            "\n",
            "Epoch 3: Added 2390 items to the labeled dataset.\n",
            "\n",
            "Correctly labeled: 2354, Incorrectly labeled: 36\n",
            "\n",
            "\n"
          ]
        },
        {
          "output_type": "stream",
          "name": "stderr",
          "text": [
            "Training Epoch 4:   5%|▍         | 6/125 [00:00<00:04, 29.07it/s]"
          ]
        },
        {
          "output_type": "stream",
          "name": "stdout",
          "text": [
            "Train Epoch: 3 [0/12420 (0%)]\tLoss: 1.061146\n"
          ]
        },
        {
          "output_type": "stream",
          "name": "stderr",
          "text": [
            "Training Epoch 4:  85%|████████▍ | 106/125 [00:04<00:00, 28.22it/s]"
          ]
        },
        {
          "output_type": "stream",
          "name": "stdout",
          "text": [
            "Train Epoch: 3 [10000/12420 (80%)]\tLoss: 0.994582\n"
          ]
        },
        {
          "output_type": "stream",
          "name": "stderr",
          "text": [
            "Training Epoch 4: 100%|██████████| 125/125 [00:05<00:00, 23.43it/s]\n"
          ]
        },
        {
          "output_type": "stream",
          "name": "stdout",
          "text": [
            "\n",
            "Epoch 4: Added 9044 items to the labeled dataset.\n",
            "\n",
            "Correctly labeled: 8425, Incorrectly labeled: 619\n",
            "\n",
            "\n"
          ]
        },
        {
          "output_type": "stream",
          "name": "stderr",
          "text": [
            "Training Epoch 5:   2%|▏         | 4/215 [00:00<00:13, 15.63it/s]"
          ]
        },
        {
          "output_type": "stream",
          "name": "stdout",
          "text": [
            "Train Epoch: 4 [0/21464 (0%)]\tLoss: 0.753542\n"
          ]
        },
        {
          "output_type": "stream",
          "name": "stderr",
          "text": [
            "Training Epoch 5:  49%|████▉     | 106/215 [00:03<00:03, 28.01it/s]"
          ]
        },
        {
          "output_type": "stream",
          "name": "stdout",
          "text": [
            "Train Epoch: 4 [10000/21464 (47%)]\tLoss: 0.666805\n"
          ]
        },
        {
          "output_type": "stream",
          "name": "stderr",
          "text": [
            "Training Epoch 5:  94%|█████████▍| 203/215 [00:11<00:00, 15.70it/s]"
          ]
        },
        {
          "output_type": "stream",
          "name": "stdout",
          "text": [
            "Train Epoch: 4 [20000/21464 (93%)]\tLoss: 0.504560\n"
          ]
        },
        {
          "output_type": "stream",
          "name": "stderr",
          "text": [
            "Training Epoch 5: 100%|██████████| 215/215 [00:11<00:00, 18.19it/s]\n"
          ]
        },
        {
          "output_type": "stream",
          "name": "stdout",
          "text": [
            "\n",
            "Epoch 5: Added 8395 items to the labeled dataset.\n",
            "\n",
            "Correctly labeled: 7061, Incorrectly labeled: 1334\n",
            "\n",
            "\n",
            "\n",
            "\n"
          ]
        },
        {
          "output_type": "stream",
          "name": "stderr",
          "text": [
            "Validation: 100%|██████████| 100/100 [00:02<00:00, 47.39it/s]\n"
          ]
        },
        {
          "output_type": "stream",
          "name": "stdout",
          "text": [
            "\n",
            "Final Metrics:\n",
            "Accuracy: 67.01%\n",
            "Recall: 67.01%\n",
            "F1-score: 64.74%\n"
          ]
        },
        {
          "output_type": "display_data",
          "data": {
            "text/plain": [
              "<Figure size 1000x700 with 2 Axes>"
            ],
            "image/png": "[encoded data removed]"
          },
          "metadata": {}
        },
        {
          "output_type": "stream",
          "name": "stdout",
          "text": [
            "Training model with threshold: 0.7\n"
          ]
        },
        {
          "output_type": "stream",
          "name": "stderr",
          "text": [
            "Training Epoch 1:   2%|▏         | 2/100 [00:00<00:05, 18.92it/s]"
          ]
        },
        {
          "output_type": "stream",
          "name": "stdout",
          "text": [
            "Train Epoch: 0 [0/10000 (0%)]\tLoss: 0.898347\n"
          ]
        },
        {
          "output_type": "stream",
          "name": "stderr",
          "text": [
            "Training Epoch 1: 100%|██████████| 100/100 [00:03<00:00, 25.68it/s]\n"
          ]
        },
        {
          "output_type": "stream",
          "name": "stdout",
          "text": [
            "\n",
            "Epoch 1: Added 15254 items to the labeled dataset.\n",
            "\n",
            "Correctly labeled: 14677, Incorrectly labeled: 577\n",
            "\n",
            "\n"
          ]
        },
        {
          "output_type": "stream",
          "name": "stderr",
          "text": [
            "Training Epoch 2:   3%|▎         | 7/253 [00:00<00:08, 30.42it/s]"
          ]
        },
        {
          "output_type": "stream",
          "name": "stdout",
          "text": [
            "Train Epoch: 1 [0/25254 (0%)]\tLoss: 0.483565\n"
          ]
        },
        {
          "output_type": "stream",
          "name": "stderr",
          "text": [
            "Training Epoch 2:  42%|████▏     | 106/253 [00:03<00:04, 29.93it/s]"
          ]
        },
        {
          "output_type": "stream",
          "name": "stdout",
          "text": [
            "Train Epoch: 1 [10000/25254 (40%)]\tLoss: 0.665821\n"
          ]
        },
        {
          "output_type": "stream",
          "name": "stderr",
          "text": [
            "Training Epoch 2:  81%|████████  | 204/253 [00:07<00:02, 20.15it/s]"
          ]
        },
        {
          "output_type": "stream",
          "name": "stdout",
          "text": [
            "Train Epoch: 1 [20000/25254 (79%)]\tLoss: 0.430821\n"
          ]
        },
        {
          "output_type": "stream",
          "name": "stderr",
          "text": [
            "Training Epoch 2: 100%|██████████| 253/253 [00:09<00:00, 26.70it/s]\n"
          ]
        },
        {
          "output_type": "stream",
          "name": "stdout",
          "text": [
            "\n",
            "Epoch 2: Added 5038 items to the labeled dataset.\n",
            "\n",
            "Correctly labeled: 4219, Incorrectly labeled: 819\n",
            "\n",
            "\n"
          ]
        },
        {
          "output_type": "stream",
          "name": "stderr",
          "text": [
            "Training Epoch 3:   1%|▏         | 4/303 [00:00<00:09, 30.77it/s]"
          ]
        },
        {
          "output_type": "stream",
          "name": "stdout",
          "text": [
            "Train Epoch: 2 [0/30292 (0%)]\tLoss: 0.591833\n"
          ]
        },
        {
          "output_type": "stream",
          "name": "stderr",
          "text": [
            "Training Epoch 3:  35%|███▍      | 105/303 [00:03<00:06, 29.87it/s]"
          ]
        },
        {
          "output_type": "stream",
          "name": "stdout",
          "text": [
            "Train Epoch: 2 [10000/30292 (33%)]\tLoss: 0.404973\n"
          ]
        },
        {
          "output_type": "stream",
          "name": "stderr",
          "text": [
            "Training Epoch 3:  68%|██████▊   | 206/303 [00:06<00:03, 29.32it/s]"
          ]
        },
        {
          "output_type": "stream",
          "name": "stdout",
          "text": [
            "Train Epoch: 2 [20000/30292 (66%)]\tLoss: 0.318210\n"
          ]
        },
        {
          "output_type": "stream",
          "name": "stderr",
          "text": [
            "Training Epoch 3: 100%|██████████| 303/303 [00:11<00:00, 27.06it/s]\n"
          ]
        },
        {
          "output_type": "stream",
          "name": "stdout",
          "text": [
            "Train Epoch: 2 [30000/30292 (99%)]\tLoss: 0.450571\n",
            "\n",
            "Epoch 3: Added 1934 items to the labeled dataset.\n",
            "\n",
            "Correctly labeled: 1802, Incorrectly labeled: 132\n",
            "\n",
            "\n"
          ]
        },
        {
          "output_type": "stream",
          "name": "stderr",
          "text": [
            "Training Epoch 4:   1%|          | 4/323 [00:00<00:16, 19.23it/s]"
          ]
        },
        {
          "output_type": "stream",
          "name": "stdout",
          "text": [
            "Train Epoch: 3 [0/32226 (0%)]\tLoss: 0.463953\n"
          ]
        },
        {
          "output_type": "stream",
          "name": "stderr",
          "text": [
            "Training Epoch 4:  33%|███▎      | 105/323 [00:03<00:07, 29.76it/s]"
          ]
        },
        {
          "output_type": "stream",
          "name": "stdout",
          "text": [
            "Train Epoch: 3 [10000/32226 (31%)]\tLoss: 0.510096\n"
          ]
        },
        {
          "output_type": "stream",
          "name": "stderr",
          "text": [
            "Training Epoch 4:  64%|██████▍   | 206/323 [00:07<00:04, 28.93it/s]"
          ]
        },
        {
          "output_type": "stream",
          "name": "stdout",
          "text": [
            "Train Epoch: 3 [20000/32226 (62%)]\tLoss: 0.275772\n"
          ]
        },
        {
          "output_type": "stream",
          "name": "stderr",
          "text": [
            "Training Epoch 4:  94%|█████████▍| 303/323 [00:11<00:00, 21.31it/s]"
          ]
        },
        {
          "output_type": "stream",
          "name": "stdout",
          "text": [
            "Train Epoch: 3 [30000/32226 (93%)]\tLoss: 0.357784\n"
          ]
        },
        {
          "output_type": "stream",
          "name": "stderr",
          "text": [
            "Training Epoch 4: 100%|██████████| 323/323 [00:12<00:00, 26.12it/s]\n"
          ]
        },
        {
          "output_type": "stream",
          "name": "stdout",
          "text": [
            "\n",
            "Epoch 4: Added 2374 items to the labeled dataset.\n",
            "\n",
            "Correctly labeled: 2086, Incorrectly labeled: 288\n",
            "\n",
            "\n"
          ]
        },
        {
          "output_type": "stream",
          "name": "stderr",
          "text": [
            "Training Epoch 5:   1%|          | 3/346 [00:00<00:12, 26.79it/s]"
          ]
        },
        {
          "output_type": "stream",
          "name": "stdout",
          "text": [
            "Train Epoch: 4 [0/34600 (0%)]\tLoss: 0.372889\n"
          ]
        },
        {
          "output_type": "stream",
          "name": "stderr",
          "text": [
            "Training Epoch 5:  31%|███       | 106/346 [00:04<00:10, 23.01it/s]"
          ]
        },
        {
          "output_type": "stream",
          "name": "stdout",
          "text": [
            "Train Epoch: 4 [10000/34600 (29%)]\tLoss: 0.377140\n"
          ]
        },
        {
          "output_type": "stream",
          "name": "stderr",
          "text": [
            "Training Epoch 5:  60%|█████▉    | 207/346 [00:07<00:04, 30.73it/s]"
          ]
        },
        {
          "output_type": "stream",
          "name": "stdout",
          "text": [
            "Train Epoch: 4 [20000/34600 (58%)]\tLoss: 0.428860\n"
          ]
        },
        {
          "output_type": "stream",
          "name": "stderr",
          "text": [
            "Training Epoch 5:  88%|████████▊ | 305/346 [00:11<00:01, 29.89it/s]"
          ]
        },
        {
          "output_type": "stream",
          "name": "stdout",
          "text": [
            "Train Epoch: 4 [30000/34600 (87%)]\tLoss: 0.283624\n"
          ]
        },
        {
          "output_type": "stream",
          "name": "stderr",
          "text": [
            "Training Epoch 5: 100%|██████████| 346/346 [00:12<00:00, 27.71it/s]\n"
          ]
        },
        {
          "output_type": "stream",
          "name": "stdout",
          "text": [
            "\n",
            "Epoch 5: Added 1409 items to the labeled dataset.\n",
            "\n",
            "Correctly labeled: 1193, Incorrectly labeled: 216\n",
            "\n",
            "\n",
            "\n",
            "\n"
          ]
        },
        {
          "output_type": "stream",
          "name": "stderr",
          "text": [
            "Validation: 100%|██████████| 100/100 [00:01<00:00, 50.32it/s]\n"
          ]
        },
        {
          "output_type": "stream",
          "name": "stdout",
          "text": [
            "\n",
            "Final Metrics:\n",
            "Accuracy: 73.37%\n",
            "Recall: 73.37%\n",
            "F1-score: 72.29%\n"
          ]
        },
        {
          "output_type": "display_data",
          "data": {
            "text/plain": [
              "<Figure size 1000x700 with 2 Axes>"
            ],
            "image/png": "[encoded data removed]"
          },
          "metadata": {}
        },
        {
          "output_type": "stream",
          "name": "stdout",
          "text": [
            "Training model with threshold: 0.8\n"
          ]
        },
        {
          "output_type": "stream",
          "name": "stderr",
          "text": [
            "Training Epoch 1:   3%|▎         | 3/100 [00:00<00:03, 27.30it/s]"
          ]
        },
        {
          "output_type": "stream",
          "name": "stdout",
          "text": [
            "Train Epoch: 0 [0/10000 (0%)]\tLoss: 0.712163\n"
          ]
        },
        {
          "output_type": "stream",
          "name": "stderr",
          "text": [
            "Training Epoch 1: 100%|██████████| 100/100 [00:03<00:00, 26.29it/s]\n"
          ]
        },
        {
          "output_type": "stream",
          "name": "stdout",
          "text": [
            "\n",
            "Epoch 1: Added 20968 items to the labeled dataset.\n",
            "\n",
            "Correctly labeled: 20124, Incorrectly labeled: 844\n",
            "\n",
            "\n"
          ]
        },
        {
          "output_type": "stream",
          "name": "stderr",
          "text": [
            "Training Epoch 2:   2%|▏         | 7/310 [00:00<00:10, 29.41it/s]"
          ]
        },
        {
          "output_type": "stream",
          "name": "stdout",
          "text": [
            "Train Epoch: 1 [0/30968 (0%)]\tLoss: 0.410096\n"
          ]
        },
        {
          "output_type": "stream",
          "name": "stderr",
          "text": [
            "Training Epoch 2:  34%|███▍      | 105/310 [00:03<00:07, 29.25it/s]"
          ]
        },
        {
          "output_type": "stream",
          "name": "stdout",
          "text": [
            "Train Epoch: 1 [10000/30968 (32%)]\tLoss: 0.231658\n"
          ]
        },
        {
          "output_type": "stream",
          "name": "stderr",
          "text": [
            "Training Epoch 2:  65%|██████▌   | 203/310 [00:07<00:05, 19.80it/s]"
          ]
        },
        {
          "output_type": "stream",
          "name": "stdout",
          "text": [
            "Train Epoch: 1 [20000/30968 (65%)]\tLoss: 0.472692\n"
          ]
        },
        {
          "output_type": "stream",
          "name": "stderr",
          "text": [
            "Training Epoch 2:  98%|█████████▊| 304/310 [00:11<00:00, 28.64it/s]"
          ]
        },
        {
          "output_type": "stream",
          "name": "stdout",
          "text": [
            "Train Epoch: 1 [30000/30968 (97%)]\tLoss: 0.401735\n"
          ]
        },
        {
          "output_type": "stream",
          "name": "stderr",
          "text": [
            "Training Epoch 2: 100%|██████████| 310/310 [00:11<00:00, 26.87it/s]\n"
          ]
        },
        {
          "output_type": "stream",
          "name": "stdout",
          "text": [
            "\n",
            "Epoch 2: Added 1336 items to the labeled dataset.\n",
            "\n",
            "Correctly labeled: 1196, Incorrectly labeled: 140\n",
            "\n",
            "\n"
          ]
        },
        {
          "output_type": "stream",
          "name": "stderr",
          "text": [
            "Training Epoch 3:   2%|▏         | 7/324 [00:00<00:10, 29.98it/s]"
          ]
        },
        {
          "output_type": "stream",
          "name": "stdout",
          "text": [
            "Train Epoch: 2 [0/32304 (0%)]\tLoss: 0.408181\n"
          ]
        },
        {
          "output_type": "stream",
          "name": "stderr",
          "text": [
            "Training Epoch 3:  32%|███▏      | 104/324 [00:03<00:07, 30.08it/s]"
          ]
        },
        {
          "output_type": "stream",
          "name": "stdout",
          "text": [
            "Train Epoch: 2 [10000/32304 (31%)]\tLoss: 0.319221\n"
          ]
        },
        {
          "output_type": "stream",
          "name": "stderr",
          "text": [
            "Training Epoch 3:  63%|██████▎   | 204/324 [00:06<00:04, 29.52it/s]"
          ]
        },
        {
          "output_type": "stream",
          "name": "stdout",
          "text": [
            "Train Epoch: 2 [20000/32304 (62%)]\tLoss: 0.379475\n"
          ]
        },
        {
          "output_type": "stream",
          "name": "stderr",
          "text": [
            "Training Epoch 3:  94%|█████████▍| 304/324 [00:11<00:01, 18.74it/s]"
          ]
        },
        {
          "output_type": "stream",
          "name": "stdout",
          "text": [
            "Train Epoch: 2 [30000/32304 (93%)]\tLoss: 0.498323\n"
          ]
        },
        {
          "output_type": "stream",
          "name": "stderr",
          "text": [
            "Training Epoch 3: 100%|██████████| 324/324 [00:11<00:00, 27.16it/s]\n"
          ]
        },
        {
          "output_type": "stream",
          "name": "stdout",
          "text": [
            "\n",
            "Epoch 3: Added 564 items to the labeled dataset.\n",
            "\n",
            "Correctly labeled: 523, Incorrectly labeled: 41\n",
            "\n",
            "\n"
          ]
        },
        {
          "output_type": "stream",
          "name": "stderr",
          "text": [
            "Training Epoch 4:   2%|▏         | 7/329 [00:00<00:10, 29.81it/s]"
          ]
        },
        {
          "output_type": "stream",
          "name": "stdout",
          "text": [
            "Train Epoch: 3 [0/32868 (0%)]\tLoss: 0.286869\n"
          ]
        },
        {
          "output_type": "stream",
          "name": "stderr",
          "text": [
            "Training Epoch 4:  32%|███▏      | 106/329 [00:04<00:07, 28.88it/s]"
          ]
        },
        {
          "output_type": "stream",
          "name": "stdout",
          "text": [
            "Train Epoch: 3 [10000/32868 (30%)]\tLoss: 0.423224\n"
          ]
        },
        {
          "output_type": "stream",
          "name": "stderr",
          "text": [
            "Training Epoch 4:  62%|██████▏   | 204/329 [00:07<00:04, 29.22it/s]"
          ]
        },
        {
          "output_type": "stream",
          "name": "stdout",
          "text": [
            "Train Epoch: 3 [20000/32868 (61%)]\tLoss: 0.405888\n"
          ]
        },
        {
          "output_type": "stream",
          "name": "stderr",
          "text": [
            "Training Epoch 4:  93%|█████████▎| 306/329 [00:11<00:00, 29.07it/s]"
          ]
        },
        {
          "output_type": "stream",
          "name": "stdout",
          "text": [
            "Train Epoch: 3 [30000/32868 (91%)]\tLoss: 0.386463\n"
          ]
        },
        {
          "output_type": "stream",
          "name": "stderr",
          "text": [
            "Training Epoch 4: 100%|██████████| 329/329 [00:12<00:00, 27.10it/s]\n"
          ]
        },
        {
          "output_type": "stream",
          "name": "stdout",
          "text": [
            "\n",
            "Epoch 4: Added 1141 items to the labeled dataset.\n",
            "\n",
            "Correctly labeled: 927, Incorrectly labeled: 214\n",
            "\n",
            "\n"
          ]
        },
        {
          "output_type": "stream",
          "name": "stderr",
          "text": [
            "Training Epoch 5:   1%|          | 4/341 [00:00<00:10, 30.65it/s]"
          ]
        },
        {
          "output_type": "stream",
          "name": "stdout",
          "text": [
            "Train Epoch: 4 [0/34009 (0%)]\tLoss: 0.377766\n"
          ]
        },
        {
          "output_type": "stream",
          "name": "stderr",
          "text": [
            "Training Epoch 5:  31%|███       | 105/341 [00:03<00:08, 28.66it/s]"
          ]
        },
        {
          "output_type": "stream",
          "name": "stdout",
          "text": [
            "Train Epoch: 4 [10000/34009 (29%)]\tLoss: 0.457575\n"
          ]
        },
        {
          "output_type": "stream",
          "name": "stderr",
          "text": [
            "Training Epoch 5:  61%|██████    | 207/341 [00:08<00:04, 28.48it/s]"
          ]
        },
        {
          "output_type": "stream",
          "name": "stdout",
          "text": [
            "Train Epoch: 4 [20000/34009 (59%)]\tLoss: 0.598028\n"
          ]
        },
        {
          "output_type": "stream",
          "name": "stderr",
          "text": [
            "Training Epoch 5:  90%|████████▉ | 306/341 [00:11<00:01, 28.51it/s]"
          ]
        },
        {
          "output_type": "stream",
          "name": "stdout",
          "text": [
            "Train Epoch: 4 [30000/34009 (88%)]\tLoss: 0.262584\n"
          ]
        },
        {
          "output_type": "stream",
          "name": "stderr",
          "text": [
            "Training Epoch 5: 100%|██████████| 341/341 [00:12<00:00, 26.77it/s]\n"
          ]
        },
        {
          "output_type": "stream",
          "name": "stdout",
          "text": [
            "\n",
            "Epoch 5: Added 609 items to the labeled dataset.\n",
            "\n",
            "Correctly labeled: 560, Incorrectly labeled: 49\n",
            "\n",
            "\n",
            "\n",
            "\n"
          ]
        },
        {
          "output_type": "stream",
          "name": "stderr",
          "text": [
            "Validation: 100%|██████████| 100/100 [00:02<00:00, 49.61it/s]\n"
          ]
        },
        {
          "output_type": "stream",
          "name": "stdout",
          "text": [
            "\n",
            "Final Metrics:\n",
            "Accuracy: 75.61%\n",
            "Recall: 75.61%\n",
            "F1-score: 75.18%\n"
          ]
        },
        {
          "output_type": "display_data",
          "data": {
            "text/plain": [
              "<Figure size 1000x700 with 2 Axes>"
            ],
            "image/png": "[encoded data removed]"
          },
          "metadata": {}
        },
        {
          "output_type": "stream",
          "name": "stdout",
          "text": [
            "Training model with threshold: 0.9\n"
          ]
        },
        {
          "output_type": "stream",
          "name": "stderr",
          "text": [
            "Training Epoch 1:   3%|▎         | 3/100 [00:00<00:03, 27.32it/s]"
          ]
        },
        {
          "output_type": "stream",
          "name": "stdout",
          "text": [
            "Train Epoch: 0 [0/10000 (0%)]\tLoss: 0.593454\n"
          ]
        },
        {
          "output_type": "stream",
          "name": "stderr",
          "text": [
            "Training Epoch 1: 100%|██████████| 100/100 [00:03<00:00, 30.10it/s]\n"
          ]
        },
        {
          "output_type": "stream",
          "name": "stdout",
          "text": [
            "\n",
            "Epoch 1: Added 16713 items to the labeled dataset.\n",
            "\n",
            "Correctly labeled: 16470, Incorrectly labeled: 243\n",
            "\n",
            "\n"
          ]
        },
        {
          "output_type": "stream",
          "name": "stderr",
          "text": [
            "Training Epoch 2:   2%|▏         | 5/268 [00:00<00:12, 20.39it/s]"
          ]
        },
        {
          "output_type": "stream",
          "name": "stdout",
          "text": [
            "Train Epoch: 1 [0/26713 (0%)]\tLoss: 0.227891\n"
          ]
        },
        {
          "output_type": "stream",
          "name": "stderr",
          "text": [
            "Training Epoch 2:  40%|███▉      | 106/268 [00:03<00:05, 28.75it/s]"
          ]
        },
        {
          "output_type": "stream",
          "name": "stdout",
          "text": [
            "Train Epoch: 1 [10000/26713 (37%)]\tLoss: 0.302063\n"
          ]
        },
        {
          "output_type": "stream",
          "name": "stderr",
          "text": [
            "Training Epoch 2:  77%|███████▋  | 207/268 [00:07<00:02, 29.84it/s]"
          ]
        },
        {
          "output_type": "stream",
          "name": "stdout",
          "text": [
            "Train Epoch: 1 [20000/26713 (75%)]\tLoss: 0.304611\n"
          ]
        },
        {
          "output_type": "stream",
          "name": "stderr",
          "text": [
            "Training Epoch 2: 100%|██████████| 268/268 [00:09<00:00, 28.47it/s]\n"
          ]
        },
        {
          "output_type": "stream",
          "name": "stdout",
          "text": [
            "\n",
            "Epoch 2: Added 1242 items to the labeled dataset.\n",
            "\n",
            "Correctly labeled: 1165, Incorrectly labeled: 77\n",
            "\n",
            "\n"
          ]
        },
        {
          "output_type": "stream",
          "name": "stderr",
          "text": [
            "Training Epoch 3:   2%|▏         | 6/280 [00:00<00:09, 29.44it/s]"
          ]
        },
        {
          "output_type": "stream",
          "name": "stdout",
          "text": [
            "Train Epoch: 2 [0/27955 (0%)]\tLoss: 0.325571\n"
          ]
        },
        {
          "output_type": "stream",
          "name": "stderr",
          "text": [
            "Training Epoch 3:  37%|███▋      | 103/280 [00:04<00:09, 19.04it/s]"
          ]
        },
        {
          "output_type": "stream",
          "name": "stdout",
          "text": [
            "Train Epoch: 2 [10000/27955 (36%)]\tLoss: 0.175404\n"
          ]
        },
        {
          "output_type": "stream",
          "name": "stderr",
          "text": [
            "Training Epoch 3:  73%|███████▎  | 204/280 [00:07<00:02, 29.68it/s]"
          ]
        },
        {
          "output_type": "stream",
          "name": "stdout",
          "text": [
            "Train Epoch: 2 [20000/27955 (71%)]\tLoss: 0.290043\n"
          ]
        },
        {
          "output_type": "stream",
          "name": "stderr",
          "text": [
            "Training Epoch 3: 100%|██████████| 280/280 [00:10<00:00, 26.69it/s]\n"
          ]
        },
        {
          "output_type": "stream",
          "name": "stdout",
          "text": [
            "\n",
            "Epoch 3: Added 791 items to the labeled dataset.\n",
            "\n",
            "Correctly labeled: 751, Incorrectly labeled: 40\n",
            "\n",
            "\n"
          ]
        },
        {
          "output_type": "stream",
          "name": "stderr",
          "text": [
            "Training Epoch 4:   2%|▏         | 7/288 [00:00<00:09, 30.53it/s]"
          ]
        },
        {
          "output_type": "stream",
          "name": "stdout",
          "text": [
            "Train Epoch: 3 [0/28746 (0%)]\tLoss: 0.224823\n"
          ]
        },
        {
          "output_type": "stream",
          "name": "stderr",
          "text": [
            "Training Epoch 4:  36%|███▋      | 105/288 [00:03<00:06, 28.99it/s]"
          ]
        },
        {
          "output_type": "stream",
          "name": "stdout",
          "text": [
            "Train Epoch: 3 [10000/28746 (35%)]\tLoss: 0.219324\n"
          ]
        },
        {
          "output_type": "stream",
          "name": "stderr",
          "text": [
            "Training Epoch 4:  70%|███████   | 203/288 [00:07<00:04, 19.51it/s]"
          ]
        },
        {
          "output_type": "stream",
          "name": "stdout",
          "text": [
            "Train Epoch: 3 [20000/28746 (69%)]\tLoss: 0.411045\n"
          ]
        },
        {
          "output_type": "stream",
          "name": "stderr",
          "text": [
            "Training Epoch 4: 100%|██████████| 288/288 [00:10<00:00, 26.34it/s]\n"
          ]
        },
        {
          "output_type": "stream",
          "name": "stdout",
          "text": [
            "\n",
            "Epoch 4: Added 505 items to the labeled dataset.\n",
            "\n",
            "Correctly labeled: 471, Incorrectly labeled: 34\n",
            "\n",
            "\n"
          ]
        },
        {
          "output_type": "stream",
          "name": "stderr",
          "text": [
            "Training Epoch 5:   2%|▏         | 6/293 [00:00<00:09, 29.02it/s]"
          ]
        },
        {
          "output_type": "stream",
          "name": "stdout",
          "text": [
            "Train Epoch: 4 [0/29251 (0%)]\tLoss: 0.291017\n"
          ]
        },
        {
          "output_type": "stream",
          "name": "stderr",
          "text": [
            "Training Epoch 5:  36%|███▌      | 105/293 [00:03<00:06, 29.13it/s]"
          ]
        },
        {
          "output_type": "stream",
          "name": "stdout",
          "text": [
            "Train Epoch: 4 [10000/29251 (34%)]\tLoss: 0.291870\n"
          ]
        },
        {
          "output_type": "stream",
          "name": "stderr",
          "text": [
            "Training Epoch 5:  70%|██████▉   | 205/293 [00:07<00:02, 29.50it/s]"
          ]
        },
        {
          "output_type": "stream",
          "name": "stdout",
          "text": [
            "Train Epoch: 4 [20000/29251 (68%)]\tLoss: 0.462328\n"
          ]
        },
        {
          "output_type": "stream",
          "name": "stderr",
          "text": [
            "Training Epoch 5: 100%|██████████| 293/293 [00:10<00:00, 28.65it/s]\n"
          ]
        },
        {
          "output_type": "stream",
          "name": "stdout",
          "text": [
            "\n",
            "Epoch 5: Added 98 items to the labeled dataset.\n",
            "\n",
            "Correctly labeled: 95, Incorrectly labeled: 3\n",
            "\n",
            "\n",
            "\n",
            "\n"
          ]
        },
        {
          "output_type": "stream",
          "name": "stderr",
          "text": [
            "Validation: 100%|██████████| 100/100 [00:02<00:00, 44.39it/s]\n"
          ]
        },
        {
          "output_type": "stream",
          "name": "stdout",
          "text": [
            "\n",
            "Final Metrics:\n",
            "Accuracy: 76.60%\n",
            "Recall: 76.60%\n",
            "F1-score: 76.36%\n"
          ]
        },
        {
          "output_type": "display_data",
          "data": {
            "text/plain": [
              "<Figure size 1000x700 with 2 Axes>"
            ],
            "image/png": "[encoded data removed]"
          },
          "metadata": {}
        }
      ]
    },
    {
      "cell_type": "markdown",
      "source": [
        "## **Analysis of self-training procedure and results:**\n"
      ],
      "metadata": {
        "id": "Wh0gG89DRxov"
      }
    },
    {
      "cell_type": "markdown",
      "source": [],
      "metadata": {
        "id": "iwG82lLMR6zD"
      }
    }
  ],
  "metadata": {
    "colab": {
      "provenance": []
    },
    "kernelspec": {
      "display_name": "Python 3",
      "language": "python",
      "name": "python3"
    },
    "language_info": {
      "codemirror_mode": {
        "name": "ipython",
        "version": 3
      },
      "file_extension": ".py",
      "mimetype": "text/x-python",
      "name": "python",
      "nbconvert_exporter": "python",
      "pygments_lexer": "ipython3",
      "version": "3.8.8"
    }
  },
  "nbformat": 4,
  "nbformat_minor": 0
}